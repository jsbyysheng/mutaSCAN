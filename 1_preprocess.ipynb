{
 "cells": [
  {
   "cell_type": "code",
   "execution_count": null,
   "id": "3fa52003-ea28-4867-a3c1-9ee0724c1886",
   "metadata": {},
   "outputs": [],
   "source": [
    "%matplotlib inline\n",
    "\n",
    "import cv2\n",
    "from PIL import Image\n",
    "import matplotlib.pyplot as plt\n",
    "\n",
    "import numpy as np\n",
    "\n",
    "from pathlib import Path\n",
    "from glob import glob\n",
    "\n",
    "from pprint import pprint\n",
    "from tqdm.auto import tqdm\n",
    "\n",
    "import utility\n",
    "\n",
    "CACHE_DIR = Path('./caches')\n",
    "utility.create_directory(CACHE_DIR)"
   ]
  },
  {
   "attachments": {},
   "cell_type": "markdown",
   "id": "3fcaee69",
   "metadata": {},
   "source": [
    "## Preprocess"
   ]
  },
  {
   "cell_type": "code",
   "execution_count": null,
   "id": "2ca34d0e",
   "metadata": {},
   "outputs": [],
   "source": [
    "as_deeplearning_input = True\n",
    "deeplearning_input_shape = (800, 600)\n",
    "files = glob('datasets/20230204/*sample*.jpg')"
   ]
  },
  {
   "cell_type": "code",
   "execution_count": null,
   "id": "5cbc1051",
   "metadata": {},
   "outputs": [],
   "source": [
    "for f_name in tqdm(files):\n",
    "    im = cv2.imread(f_name)\n",
    "    im = cv2.cvtColor(im, cv2.COLOR_BGR2RGB)\n",
    "    # Gaussian Blur\n",
    "    im_smoothed = cv2.GaussianBlur(im, (9, 9), 0)\n",
    "\n",
    "    # Average Blur\n",
    "    kernel = np.ones((5, 5), np.float32) / 25\n",
    "    im_smoothed = cv2.filter2D(im_smoothed, -1, kernel)\n",
    "    im_smoothed = cv2.medianBlur(im_smoothed, 25)\n",
    "\n",
    "    # HSV get luminance info\n",
    "    hsv_im = cv2.cvtColor(im_smoothed, cv2.COLOR_RGB2HSV)\n",
    "    h, s, v = cv2.split(hsv_im)\n",
    "    im_gray = v\n",
    "\n",
    "    # Otsu's thresholding\n",
    "    _, im_thres = cv2.threshold(im_gray, 0, 255, cv2.THRESH_BINARY+cv2.THRESH_OTSU)\n",
    "\n",
    "    # Find Contours bounding box\n",
    "    contours, hierarchy = cv2.findContours(im_thres, cv2.RETR_TREE, cv2.CHAIN_APPROX_NONE)\n",
    "    c = max(contours, key=cv2.contourArea)\n",
    "    x, y, w, h = cv2.boundingRect(c)\n",
    "\n",
    "    im = im[y:y+h, x:x+w]\n",
    "    if as_deeplearning_input:\n",
    "        im = utility.mutaSCAN_image_resize(im, *deeplearning_input_shape)\n",
    "    img_saving = Image.fromarray(im)\n",
    "\n",
    "    save_name = CACHE_DIR / Path('test_samples') / Path(f_name).stem\n",
    "    save_name =  Path(save_name).as_posix() + '_processed.png'\n",
    "    img_saving.save(save_name)"
   ]
  },
  {
   "attachments": {},
   "cell_type": "markdown",
   "id": "668c6ccb",
   "metadata": {},
   "source": [
    "## Debug"
   ]
  },
  {
   "cell_type": "code",
   "execution_count": null,
   "id": "e7da0721-9e1f-41bb-ab47-bc1866a32283",
   "metadata": {},
   "outputs": [],
   "source": [
    "f_name = 'datasets/20230128_190030_232300_sample0.jpg'\n",
    "figsize=(10, 10)"
   ]
  },
  {
   "cell_type": "code",
   "execution_count": null,
   "id": "ce50968d",
   "metadata": {},
   "outputs": [],
   "source": [
    "im = cv2.imread(f_name)\n",
    "im = cv2.cvtColor(im, cv2.COLOR_BGR2RGB)\n",
    "\n",
    "plt.figure(figsize=figsize)\n",
    "plt.imshow(im)"
   ]
  },
  {
   "cell_type": "code",
   "execution_count": null,
   "id": "2fb2ae6a",
   "metadata": {},
   "outputs": [],
   "source": [
    "# Gaussian Blur\n",
    "im_smoothed = cv2.GaussianBlur(im, (9, 9), 0)\n",
    "\n",
    "# Average Blur\n",
    "kernel = np.ones((5, 5), np.float32) / 25\n",
    "im_smoothed = cv2.filter2D(im_smoothed, -1, kernel)\n",
    "\n",
    "im_smoothed = cv2.medianBlur(im_smoothed, 25)\n",
    "\n",
    "plt.figure(figsize=figsize)\n",
    "plt.imshow(im_smoothed)"
   ]
  },
  {
   "cell_type": "code",
   "execution_count": null,
   "id": "4c07abd0",
   "metadata": {},
   "outputs": [],
   "source": [
    "hsv_im = cv2.cvtColor(im_smoothed, cv2.COLOR_RGB2HSV)\n",
    "h, s, v = cv2.split(hsv_im)\n",
    "im_gray = v\n",
    "plt.figure(figsize=figsize)\n",
    "plt.imshow(v, cmap='gray')"
   ]
  },
  {
   "cell_type": "code",
   "execution_count": null,
   "id": "ffc0b486",
   "metadata": {},
   "outputs": [],
   "source": [
    "_, im_thres = cv2.threshold(im_gray, 0, 255, cv2.THRESH_BINARY+cv2.THRESH_OTSU)\n",
    "\n",
    "plt.figure(figsize=figsize)\n",
    "plt.imshow(im_thres, cmap='gray')"
   ]
  },
  {
   "cell_type": "code",
   "execution_count": null,
   "id": "187fd6dd",
   "metadata": {},
   "outputs": [],
   "source": [
    "contours, hierarchy = cv2.findContours(im_thres, cv2.RETR_TREE, cv2.CHAIN_APPROX_NONE)\n",
    "c = max(contours, key=cv2.contourArea)\n",
    "masked = cv2.drawContours(im, [c], -1, (255, 0, 0), 5)\n",
    "x, y, w, h = cv2.boundingRect(c)\n",
    "cv2.rectangle(im, (x, y), (x + w, y + h), (0, 255, 0), 5)\n",
    "\n",
    "plt.figure(figsize=figsize)\n",
    "plt.imshow(im)"
   ]
  }
 ],
 "metadata": {
  "kernelspec": {
   "display_name": "mutaSCAN",
   "language": "python",
   "name": "python3"
  },
  "language_info": {
   "codemirror_mode": {
    "name": "ipython",
    "version": 3
   },
   "file_extension": ".py",
   "mimetype": "text/x-python",
   "name": "python",
   "nbconvert_exporter": "python",
   "pygments_lexer": "ipython3",
   "version": "3.9.2"
  },
  "vscode": {
   "interpreter": {
    "hash": "58dd376416a726c3a738351c156641797282f248d0409aed44c21e67d1c45b1a"
   }
  }
 },
 "nbformat": 4,
 "nbformat_minor": 5
}
