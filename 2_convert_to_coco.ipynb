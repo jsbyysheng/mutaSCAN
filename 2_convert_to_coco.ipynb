{
 "cells": [
  {
   "cell_type": "code",
   "execution_count": null,
   "metadata": {},
   "outputs": [],
   "source": [
    "import random\n",
    "from glob import glob\n",
    "\n",
    "import IPython\n",
    "from PIL import Image as PILImage\n",
    "from PIL import ImageDraw as PILImageDraw\n",
    "\n",
    "from labelme2coco import labelme2coco\n",
    "from labelme2coco import CocoDatasetViewer\n",
    "\n",
    "from pathlib import Path\n",
    "import utility\n",
    "\n",
    "CACHE_DIR = Path('./caches')\n",
    "utility.create_directory(CACHE_DIR)"
   ]
  },
  {
   "attachments": {},
   "cell_type": "markdown",
   "metadata": {},
   "source": [
    "## labelme to coco"
   ]
  },
  {
   "cell_type": "code",
   "execution_count": null,
   "metadata": {},
   "outputs": [],
   "source": [
    "TRAIN_CACHE = CACHE_DIR / Path('train_samples')\n",
    "n_train_samples = 1\n",
    "fake_sample_path = [\n",
    "    Path('*_fake2_*.json'),\n",
    "    Path('*_fake3_*.json'),\n",
    "    Path('*_fake4_*.json'),\n",
    "    Path('*_fake5_*.json'),\n",
    "    Path('*_fake6_*.json'),\n",
    "    Path('*_fake7_*.json'),\n",
    "    Path('*_fake8_*.json'),\n",
    "    Path('*_fake9_*.json')\n",
    "]\n",
    "labelme_json = []\n",
    "for p in random.sample(fake_sample_path, n_train_samples):\n",
    "    labelme_json += glob(str(TRAIN_CACHE / p))\n",
    "labelme2coco(labelme_json, Path(f'datasets/train/coco_{n_train_samples}_samples.json'))"
   ]
  },
  {
   "cell_type": "code",
   "execution_count": null,
   "metadata": {},
   "outputs": [],
   "source": [
    "VALID_CACHE = CACHE_DIR / Path('valid_samples')\n",
    "labelme_json = \\\n",
    "    glob(str(VALID_CACHE / Path('*_fake1_*.json'))) + \\\n",
    "    glob(str(VALID_CACHE / Path('*_fake10_*.json')))\n",
    "labelme2coco(labelme_json, Path('datasets/valid/coco.json'))"
   ]
  },
  {
   "attachments": {},
   "cell_type": "markdown",
   "metadata": {},
   "source": [
    "## coco dataset viewer"
   ]
  },
  {
   "cell_type": "code",
   "execution_count": null,
   "metadata": {},
   "outputs": [],
   "source": [
    "annotation_path = \"datasets/train/coco.json\"\n",
    "image_dir = str(TRAIN_CACHE)\n",
    "\n",
    "coco_dataset = CocoDatasetViewer(annotation_path, image_dir)\n",
    "coco_dataset.display_info()\n",
    "coco_dataset.display_licenses()\n",
    "coco_dataset.display_categories()"
   ]
  },
  {
   "cell_type": "code",
   "execution_count": null,
   "metadata": {},
   "outputs": [],
   "source": [
    "for k, v in coco_dataset.images.items():\n",
    "    print(k, v)"
   ]
  },
  {
   "cell_type": "code",
   "execution_count": null,
   "metadata": {},
   "outputs": [],
   "source": [
    "html = coco_dataset.display_image(0, use_url=False)\n",
    "IPython.display.HTML(html)"
   ]
  }
 ],
 "metadata": {
  "kernelspec": {
   "display_name": "mutaSCAN",
   "language": "python",
   "name": "python3"
  },
  "language_info": {
   "codemirror_mode": {
    "name": "ipython",
    "version": 3
   },
   "file_extension": ".py",
   "mimetype": "text/x-python",
   "name": "python",
   "nbconvert_exporter": "python",
   "pygments_lexer": "ipython3",
   "version": "3.10.9"
  },
  "orig_nbformat": 4,
  "vscode": {
   "interpreter": {
    "hash": "58dd376416a726c3a738351c156641797282f248d0409aed44c21e67d1c45b1a"
   }
  }
 },
 "nbformat": 4,
 "nbformat_minor": 2
}
