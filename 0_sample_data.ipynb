{
 "cells": [
  {
   "cell_type": "code",
   "execution_count": null,
   "metadata": {},
   "outputs": [],
   "source": [
    "%matplotlib inline\n",
    "import matplotlib.pyplot as plt\n",
    "import numpy as np\n",
    "import random\n",
    "\n",
    "import cv2\n",
    "from PIL import Image\n",
    "\n",
    "from focus.Focuser import Focuser\n",
    "from picamera2 import Picamera2, Preview\n",
    "# pip install -U pymodbus pyserial\n",
    "from pymodbus.client import ModbusSerialClient\n",
    "\n",
    "import uuid\n",
    "import time\n",
    "from pathlib import Path\n",
    "from datetime import datetime\n",
    "\n",
    "from tqdm.auto import tqdm"
   ]
  },
  {
   "cell_type": "code",
   "execution_count": null,
   "metadata": {},
   "outputs": [],
   "source": [
    "def generate_uuid():\n",
    "    return str(uuid.uuid4())\n",
    "\n",
    "def generate_datetime():\n",
    "    return datetime.fromtimestamp(time.time()).strftime(f'%Y%m%d_%H%M%S_%f')\n",
    "\n",
    "def generate_cache_file(filename, caches_dir='caches', child_dir=None, filetype='', suffix='', prefix=''):\n",
    "    if child_dir is not None:\n",
    "        cache = Path(caches_dir) / Path(child_dir)\n",
    "    else:\n",
    "        cache = Path(caches_dir)\n",
    "    cache.mkdir(parents=True, exist_ok=True)\n",
    "    return cache / Path(\n",
    "        f\"{prefix}{'_' if prefix != '' else ''}{filename}{'_' if suffix != '' else ''}{suffix}{'.' if filetype != '' else ''}{filetype}\")\n",
    "\n",
    "def generate_random_cache_file(caches_dir='caches', child_dir=None, filetype='', suffix='', prefix=''):\n",
    "    return generate_cache_file(generate_uuid(), caches_dir, child_dir, filetype, suffix, prefix)\n",
    "\n",
    "def generate_timedate_cache_file(caches_dir='caches', child_dir=None, filetype='', suffix='', prefix=''):\n",
    "    return generate_cache_file(generate_datetime(), caches_dir, child_dir, filetype, suffix, prefix)"
   ]
  },
  {
   "attachments": {},
   "cell_type": "markdown",
   "metadata": {},
   "source": [
    "Generate fake data"
   ]
  },
  {
   "cell_type": "code",
   "execution_count": null,
   "metadata": {},
   "outputs": [],
   "source": [
    "for i in range(10):\n",
    "    print(np.random.randint(1, 4, 12))"
   ]
  },
  {
   "attachments": {},
   "cell_type": "markdown",
   "metadata": {},
   "source": [
    "## Parameters"
   ]
  },
  {
   "cell_type": "code",
   "execution_count": null,
   "metadata": {},
   "outputs": [],
   "source": [
    "caches_dir = 'datasets/xxx'\n",
    "\n",
    "JY_DAM0404D_device = '/dev/ttyUSB0'\n",
    "JY_DAM0404D_baudrate = 9600\n",
    "JY_DAM0404D_stopbits = 1\n",
    "JY_DAM0404D_bytesize = 8\n",
    "JY_DAM0404D_parity = 'N'\n",
    "JY_DAM0404D_timeout = 1\n",
    "\n",
    "camera_focus_device_name = '/dev/v4l-subdev1'\n",
    "focus_step = 2000\n",
    "\n",
    "AnalogueGain = 0.0\n",
    "ExposureTime = 200000\n",
    "Brightness = 0.0\n",
    "AwbEnable = False  # auto white balance"
   ]
  },
  {
   "attachments": {},
   "cell_type": "markdown",
   "metadata": {},
   "source": [
    "## Prepare UV Control"
   ]
  },
  {
   "cell_type": "code",
   "execution_count": null,
   "metadata": {},
   "outputs": [],
   "source": [
    "JY_DAM0404D_slave_id = 0x01\n",
    "JY_DAM0404D_client = ModbusSerialClient(\n",
    "    port=JY_DAM0404D_device,\n",
    "    baudrate=JY_DAM0404D_baudrate,\n",
    "    stopbits=JY_DAM0404D_stopbits,\n",
    "    bytesize=JY_DAM0404D_bytesize,\n",
    "    parity=JY_DAM0404D_parity,\n",
    "    timeout=1\n",
    ")\n",
    "JY_DAM0404D_client.connect()"
   ]
  },
  {
   "cell_type": "code",
   "execution_count": null,
   "metadata": {},
   "outputs": [],
   "source": [
    "def obtain_JY_DAM0404D_status():\n",
    "    reg_addr = 0x03E8\n",
    "    reg_count = 0x14\n",
    "    return JY_DAM0404D_client.read_input_registers(reg_addr, reg_count, JY_DAM0404D_slave_id)\n",
    "\n",
    "def control_JY_DAM0404D_DO(num:int, value:bool):\n",
    "    reg_addr = 0x0000 + num\n",
    "    return JY_DAM0404D_client.write_coil(num, value, JY_DAM0404D_slave_id)"
   ]
  },
  {
   "cell_type": "code",
   "execution_count": null,
   "metadata": {},
   "outputs": [],
   "source": [
    "ret = control_JY_DAM0404D_DO(0x00, True)\n",
    "time.sleep(1.0)\n",
    "ret = control_JY_DAM0404D_DO(0x00, False)"
   ]
  },
  {
   "attachments": {},
   "cell_type": "markdown",
   "metadata": {},
   "source": [
    "## Adjust Camera Focus"
   ]
  },
  {
   "cell_type": "code",
   "execution_count": null,
   "metadata": {},
   "outputs": [],
   "source": [
    "focuser = Focuser(camera_focus_device_name)"
   ]
  },
  {
   "cell_type": "code",
   "execution_count": null,
   "metadata": {},
   "outputs": [],
   "source": [
    "focuser.set(Focuser.OPT_FOCUS, focus_step)"
   ]
  },
  {
   "attachments": {},
   "cell_type": "markdown",
   "metadata": {},
   "source": [
    "## Prepare Camera"
   ]
  },
  {
   "cell_type": "code",
   "execution_count": null,
   "metadata": {},
   "outputs": [],
   "source": [
    "picam2 = Picamera2()\n",
    "picam2.start_preview(Preview.NULL)\n",
    "capture_config = picam2.create_still_configuration()\n",
    "picam2.stop()\n",
    "picam2.configure(capture_config)\n",
    "with picam2.controls as ctrl:\n",
    "    ctrl.AnalogueGain = AnalogueGain\n",
    "    ctrl.ExposureTime = ExposureTime\n",
    "    ctrl.Brightness = Brightness\n",
    "    ctrl.AwbEnable = AwbEnable      # auto white balance\n",
    "# picam2.set_controls({\"AwbEnable\": 0})\n",
    "picam2.start()"
   ]
  },
  {
   "cell_type": "code",
   "execution_count": null,
   "metadata": {},
   "outputs": [],
   "source": [
    "picam2.is_open"
   ]
  },
  {
   "cell_type": "code",
   "execution_count": null,
   "metadata": {},
   "outputs": [],
   "source": [
    "picam2.start()"
   ]
  },
  {
   "attachments": {},
   "cell_type": "markdown",
   "metadata": {},
   "source": [
    "## Sample Image"
   ]
  },
  {
   "cell_type": "code",
   "execution_count": null,
   "metadata": {},
   "outputs": [],
   "source": [
    "def sample_image(n_img=1, save_path=None):\n",
    "    img = None\n",
    "    if n_img == 1:\n",
    "        img = np.uint8(picam2.capture_array())\n",
    "    else:\n",
    "        sumv = None\n",
    "        for i in range(n_img):\n",
    "            if sumv is None:\n",
    "                sumv = np.longdouble(picam2.capture_array())\n",
    "            else:\n",
    "                sumv += np.longdouble(picam2.capture_array())\n",
    "        img = np.uint8(sumv / n_img)\n",
    "\n",
    "    img_saving = Image.fromarray(img)\n",
    "    img_saving.save('./survey.jpg')\n",
    "    if save_path is not None:\n",
    "        img_saving.save(save_path)\n",
    "    return img\n",
    "\n",
    "def sample_image_uv(n_img=1, save_path=None):\n",
    "    control_JY_DAM0404D_DO(0, True)\n",
    "    time.sleep(0.5)\n",
    "    img = sample_image(n_img, save_path)\n",
    "    control_JY_DAM0404D_DO(0, False)\n",
    "    time.sleep(0.5)\n",
    "    return img"
   ]
  },
  {
   "attachments": {},
   "cell_type": "markdown",
   "metadata": {},
   "source": [
    "Image Glance"
   ]
  },
  {
   "cell_type": "code",
   "execution_count": null,
   "metadata": {},
   "outputs": [],
   "source": [
    "img = sample_image_uv()\n",
    "figsize=(10, 10)\n",
    "plt.figure(figsize=figsize)\n",
    "plt.imshow(img)"
   ]
  },
  {
   "attachments": {},
   "cell_type": "markdown",
   "metadata": {},
   "source": [
    "Sample One Frame"
   ]
  },
  {
   "cell_type": "code",
   "execution_count": null,
   "metadata": {},
   "outputs": [],
   "source": [
    "child_dir = 'dataset'\n",
    "suffix = 'blank_ps_2'"
   ]
  },
  {
   "cell_type": "code",
   "execution_count": null,
   "metadata": {},
   "outputs": [],
   "source": [
    "f_name = generate_timedate_cache_file(\n",
    "    caches_dir=caches_dir,\n",
    "    child_dir=child_dir,\n",
    "    filetype='jpg',\n",
    "    suffix=suffix\n",
    ")\n",
    "_ = sample_image_uv(save_path=f_name)\n",
    "print(f'file has been saved to {f_name}')"
   ]
  },
  {
   "attachments": {},
   "cell_type": "markdown",
   "metadata": {},
   "source": [
    "Sample Timer"
   ]
  },
  {
   "cell_type": "code",
   "execution_count": null,
   "metadata": {},
   "outputs": [],
   "source": [
    "# In Second\n",
    "Total_Samples = 30\n",
    "Set_Timer = 60\n",
    "\n",
    "child_dir = 'dataset'\n",
    "suffix = 'sample6'"
   ]
  },
  {
   "cell_type": "code",
   "execution_count": null,
   "metadata": {},
   "outputs": [],
   "source": [
    "for idx in tqdm(range(Total_Samples), desc=' Sample Cycle ', position=0):\n",
    "    f_name = generate_timedate_cache_file(\n",
    "        caches_dir=caches_dir,\n",
    "        child_dir=child_dir,\n",
    "        filetype='jpg',\n",
    "        suffix=suffix+f'_{idx}'\n",
    "    )\n",
    "    time.sleep(Set_Timer)\n",
    "    _ = sample_image_uv(save_path=f_name)"
   ]
  },
  {
   "attachments": {},
   "cell_type": "markdown",
   "metadata": {},
   "source": [
    "## Close Devices"
   ]
  },
  {
   "cell_type": "code",
   "execution_count": null,
   "metadata": {},
   "outputs": [],
   "source": [
    "picam2.close()"
   ]
  },
  {
   "cell_type": "code",
   "execution_count": null,
   "metadata": {},
   "outputs": [],
   "source": [
    "JY_DAM0404D_client.close()"
   ]
  }
 ],
 "metadata": {
  "kernelspec": {
   "display_name": "Python 3",
   "language": "python",
   "name": "python3"
  },
  "language_info": {
   "codemirror_mode": {
    "name": "ipython",
    "version": 3
   },
   "file_extension": ".py",
   "mimetype": "text/x-python",
   "name": "python",
   "nbconvert_exporter": "python",
   "pygments_lexer": "ipython3",
   "version": "3.9.2"
  },
  "orig_nbformat": 4,
  "vscode": {
   "interpreter": {
    "hash": "e7370f93d1d0cde622a1f8e1c04877d8463912d04d973331ad4851f04de6915a"
   }
  }
 },
 "nbformat": 4,
 "nbformat_minor": 2
}
